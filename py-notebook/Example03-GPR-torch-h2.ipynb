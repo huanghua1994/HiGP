{
 "cells": [
  {
   "cell_type": "markdown",
   "metadata": {},
   "source": [
    "This notebook shows how to use the general interface in HiGP for regression problems.\n",
    "\n",
    "In this test, we will use the 3D Road dataset at \"https://archive.ics.uci.edu/ml/machine-learning-databases/00246/3D_spatial_network.txt\". \n",
    "\n",
    "We random sample 30000 points for training and use 100 points for testing for demonstration."
   ]
  },
  {
   "cell_type": "code",
   "execution_count": 1,
   "metadata": {},
   "outputs": [],
   "source": [
    "import higp\n",
    "import numpy as np\n",
    "import pandas as pd\n",
    "import math\n",
    "import matplotlib.pyplot as plt\n",
    "import torch\n",
    "%matplotlib inline"
   ]
  },
  {
   "cell_type": "markdown",
   "metadata": {},
   "source": [
    "Since this is a large (> 20000 training points) and low-dimensional (2D or 3D) data set, HiGP can use the $\\mathcal{H}^2$ matrix for faster calculation. The $\\mathcal{H}^2$ matrix requires a higher working precision, so we use float64 instead of float32 in this example."
   ]
  },
  {
   "cell_type": "code",
   "execution_count": 2,
   "metadata": {},
   "outputs": [],
   "source": [
    "np_dtype = np.float64"
   ]
  },
  {
   "cell_type": "markdown",
   "metadata": {},
   "source": [
    "Download the dataset, Scale features to $[-1, 1]$ and normalize labels."
   ]
  },
  {
   "cell_type": "code",
   "execution_count": 3,
   "metadata": {},
   "outputs": [],
   "source": [
    "df = pd.read_csv(\"https://archive.ics.uci.edu/ml/machine-learning-databases/00246/3D_spatial_network.txt\", sep=',', header=None)\n",
    "data_array = df.values[:, 1:]\n",
    "all_x = data_array[:, 1:3]\n",
    "all_y = data_array[:, -1]\n",
    "\n",
    "# Scale features and normalize labels\n",
    "all_x_max = np.max(all_x, 0)\n",
    "all_x_min = np.min(all_x, 0)\n",
    "all_x = 2.0 * (all_x - all_x_min[np.newaxis, :]) / (all_x_max[np.newaxis, :] - all_x_min[np.newaxis, :]) - 1.0\n",
    "all_y = (all_y - np.mean(all_y)) / np.std(all_y)\n",
    "\n",
    "# Randomly select a subset of the data\n",
    "n_all = all_x.shape[0]\n",
    "n_train = 30000\n",
    "n_test = 100\n",
    "n_sample = n_train + n_test\n",
    "\n",
    "sample_array = np.random.choice(n_all, n_sample, replace = False)\n",
    "\n",
    "train_x = np.ascontiguousarray(all_x[sample_array[:n_train], :].T).astype(np_dtype)\n",
    "train_y = np.ascontiguousarray(all_y[sample_array[:n_train]]).astype(np_dtype)\n",
    "test_x = np.ascontiguousarray(all_x[sample_array[n_train:], :].T).astype(np_dtype)\n",
    "test_y = np.ascontiguousarray(all_y[sample_array[n_train:]]).astype(np_dtype)"
   ]
  },
  {
   "cell_type": "markdown",
   "metadata": {},
   "source": [
    "Remember to use the `ascontiguousarray()` method in NumPy to guarantee that `train_x, train_y, test_x, test_y` are stored contiguously.\n",
    "\n",
    "Now let's check the shapes of these four arrays. We can see that each data point is stored in one column in `train_x` and `test_x`."
   ]
  },
  {
   "cell_type": "code",
   "execution_count": 4,
   "metadata": {},
   "outputs": [
    {
     "name": "stdout",
     "output_type": "stream",
     "text": [
      "Shape of train_x :  (2, 30000)\n",
      "Shape of train_y :  (30000,)\n",
      "Shape of test_x :  (2, 100)\n",
      "Shape of test_y :  (100,)\n"
     ]
    }
   ],
   "source": [
    "print(\"Shape of train_x : \", train_x.shape)\n",
    "print(\"Shape of train_y : \", train_y.shape)\n",
    "print(\"Shape of test_x : \", test_x.shape)\n",
    "print(\"Shape of test_y : \", test_y.shape)"
   ]
  },
  {
   "cell_type": "markdown",
   "metadata": {},
   "source": [
    "Create a GP regression problem model and a PyTorch Adam optimizer. \n",
    "\n",
    "By default, HiGP uses the $\\mathcal{H}^2$ matrix if possible (`mvtype = higp.MatvecAuto`). If you want to disable the use of the $\\mathcal{H}^2$ matrix, set `mvtype = higp.MatvecAOT`. For more information about the parameter `mvtype`, please refer to the user manual. "
   ]
  },
  {
   "cell_type": "code",
   "execution_count": 5,
   "metadata": {},
   "outputs": [],
   "source": [
    "torch_dtype = torch.float32 if np_dtype == np.float32 else torch.float64\n",
    "gprproblem = higp.gprproblem.setup(data=train_x, label=train_y, kernel_type=higp.GaussianKernel, mvtype=higp.MatvecAuto)\n",
    "model = higp.GPRModel(gprproblem, dtype=torch_dtype)\n",
    "optimizer = torch.optim.Adam(model.parameters(), lr=0.05)"
   ]
  },
  {
   "cell_type": "markdown",
   "metadata": {},
   "source": [
    "Run 20 steps of Adam."
   ]
  },
  {
   "cell_type": "code",
   "execution_count": 6,
   "metadata": {},
   "outputs": [
    {
     "name": "stdout",
     "output_type": "stream",
     "text": [
      "Iteration (max 20), Elapsed time (sec), Loss, Hyperparameters (l, s, f, before nnt)\n",
      "1, 15.63, 0.73830, 0.050, -0.050, 0.050\n",
      "2, 22.54, 0.72007, 0.100, -0.086, 0.100\n",
      "3, 29.37, 0.70694, 0.149, -0.127, 0.150\n",
      "4, 36.32, 0.69174, 0.198, -0.171, 0.199\n",
      "5, 43.33, 0.67514, 0.245, -0.210, 0.248\n",
      "6, 50.18, 0.66023, 0.292, -0.249, 0.297\n",
      "7, 57.12, 0.64546, 0.338, -0.291, 0.345\n",
      "8, 64.09, 0.62957, 0.382, -0.334, 0.393\n",
      "9, 71.00, 0.61284, 0.424, -0.377, 0.441\n",
      "10, 78.03, 0.59606, 0.466, -0.421, 0.488\n",
      "11, 84.79, 0.57911, 0.505, -0.464, 0.534\n",
      "12, 91.67, 0.56199, 0.543, -0.506, 0.580\n",
      "13, 98.58, 0.54539, 0.579, -0.548, 0.625\n",
      "14, 105.45, 0.52824, 0.614, -0.590, 0.670\n",
      "15, 112.38, 0.51140, 0.647, -0.631, 0.714\n",
      "16, 119.12, 0.49465, 0.678, -0.673, 0.757\n",
      "17, 125.78, 0.47755, 0.709, -0.715, 0.800\n",
      "18, 132.64, 0.46023, 0.737, -0.757, 0.841\n",
      "19, 139.34, 0.44276, 0.765, -0.799, 0.883\n",
      "20, 146.12, 0.42528, 0.792, -0.841, 0.923\n"
     ]
    }
   ],
   "source": [
    "loss_history, param_histpry = higp.gpr_torch_minimize(model, optimizer, maxits=20, print_info=True)"
   ]
  },
  {
   "cell_type": "markdown",
   "metadata": {},
   "source": [
    "Run predictions with the initial parameters and the trained parameters."
   ]
  },
  {
   "cell_type": "code",
   "execution_count": 7,
   "metadata": {},
   "outputs": [],
   "source": [
    "Pred0 = higp.gpr_prediction(data_train=train_x,\n",
    "                            label_train=train_y,\n",
    "                            data_prediction=test_x,\n",
    "                            kernel_type=higp.GaussianKernel,\n",
    "                            gp_params=np.hstack((0.0, 0.0, 0.0)))\n",
    "\n",
    "Pred = higp.gpr_prediction(data_train=train_x,\n",
    "                           label_train=train_y,\n",
    "                           data_prediction=test_x,\n",
    "                           kernel_type=higp.GaussianKernel,\n",
    "                           gp_params=model.get_params())"
   ]
  },
  {
   "cell_type": "markdown",
   "metadata": {},
   "source": [
    "Finally, let us check the root mean squared error (RMSE) of the predition."
   ]
  },
  {
   "cell_type": "code",
   "execution_count": 8,
   "metadata": {},
   "outputs": [
    {
     "name": "stdout",
     "output_type": "stream",
     "text": [
      "RMSE (before training): 0.0093166, RMSE (after training): 0.00428992\n",
      "\n"
     ]
    }
   ],
   "source": [
    "rmse0 = np.linalg.norm(Pred0.prediction_mean - test_y) / np.sqrt(float(n_test))\n",
    "rmse = np.linalg.norm(Pred.prediction_mean - test_y) / np.sqrt(float(n_test))\n",
    "print(\"RMSE (before training): %g, RMSE (after training): %g\\n\" % (rmse0, rmse))"
   ]
  },
  {
   "cell_type": "code",
   "execution_count": null,
   "metadata": {},
   "outputs": [],
   "source": []
  }
 ],
 "metadata": {
  "kernelspec": {
   "display_name": "Python 3 (ipykernel)",
   "language": "python",
   "name": "python3"
  },
  "language_info": {
   "codemirror_mode": {
    "name": "ipython",
    "version": 3
   },
   "file_extension": ".py",
   "mimetype": "text/x-python",
   "name": "python",
   "nbconvert_exporter": "python",
   "pygments_lexer": "ipython3",
   "version": "3.12.8"
  }
 },
 "nbformat": 4,
 "nbformat_minor": 4
}
